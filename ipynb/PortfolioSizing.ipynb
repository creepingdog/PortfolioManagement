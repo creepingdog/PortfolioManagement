{
 "cells": [
  {
   "cell_type": "markdown",
   "metadata": {},
   "source": [
    "# Portfolio Sizing Formulation"
   ]
  },
  {
   "cell_type": "markdown",
   "metadata": {},
   "source": [
    "## 1. Notations"
   ]
  },
  {
   "cell_type": "markdown",
   "metadata": {},
   "source": [
    "### 1) Symbol level properties. \n",
    "\n",
    "For each symbol $s_i$, we have:\n",
    "\n",
    "* $\\sigma_i^{SR}$ -- Daily specific risk\n",
    "* $\\sigma_i^{TR}$ -- Daily total risk\n",
    "* $V_i$ -- ADV value (in dollar)"
   ]
  },
  {
   "cell_type": "markdown",
   "metadata": {},
   "source": [
    "### 2) Symbol level inputs.\n",
    "\n",
    "For each symbol $s_i$, we have the following inputs:\n",
    "\n",
    "* $C_i$ -- Capacity\n",
    "* $A_i$ -- Alpha proxy\n",
    "* $m_i^{\\alpha}$ -- Alpha multiplier (Default is 0.3)\n",
    "* $T_i^S$ -- Start datetime\n",
    "* $T_i^E$ -- End datetime"
   ]
  },
  {
   "cell_type": "markdown",
   "metadata": {},
   "source": [
    "### 3) Symbol level derived quantities.\n",
    "\n",
    "For each symbol $s_i$, based on the above properties and inputs, we can calculate the following quantities:\n",
    "\n",
    "* Duration of the Alpha signal: $T_i=T_i^E-T_i^S$\n",
    "* Remaining datetime $t_i=T_i^E-TODAY$\n",
    "* Alpha: $\\alpha_i^T$=AlphaFunction(\\*args)\n",
    "    > AlphaFunction() could be customized with default: $sign(A_i)*m_i^{\\alpha}*(\\sigma_i^{TR}\\sqrt{T_i})*\\sqrt{|A_i|}$\n",
    "* Expected remaining Alpha: $\\alpha_i^t=AlphaDecayFunction(\\alpha_i^T, T_i, t_i)$\n",
    "    > AlphaDecayFunction() could be customized with default: linear decay\n",
    "* Expected remaining specific risk: $\\sigma_i^t=RiskDecayFunction(\\sigma_i^{SR}, T_i, t_i)$\n",
    "    > RiskDecayFunction() could be customized with default: square root decay\n",
    "* Annualized adjustment factor: $f_i=$ Total Biz Datetime $\\big/ t_i$\n",
    "* Annualized Alpha: $\\alpha_i^{ANN}=\\alpha_i^t*f_i$\n",
    "* Annualized Risk: $\\sigma_i^{ANN}=\\sigma_i^t*\\sqrt{f_i}$"
   ]
  },
  {
   "cell_type": "markdown",
   "metadata": {},
   "source": [
    "### 4) Parameters across all symbols\n",
    "* $m^C$ -- Capacity multiplier\n",
    "* $H$ -- Hard dollar limit\n",
    "* $m^l$ -- Liquidity multiplier\n",
    "* $B$ -- Risk budget\n",
    "* $U^{\\alpha}$ -- Alpha threshold. (Default is not used)"
   ]
  },
  {
   "cell_type": "markdown",
   "metadata": {},
   "source": [
    "### 5) Portfolio level parameters\n",
    "* $\\theta$ -- Portfolio Sharpe requirement"
   ]
  },
  {
   "cell_type": "markdown",
   "metadata": {},
   "source": [
    "### 6) Portfolio analytics\n",
    "\n",
    "Suppose in the portfolio, there are $n$ symbols. And the notional for symbol $s_i$ is $v_i$.\n",
    "\n",
    "* $\\mathbf{v}=[|v_1|,...,|v_n|]^{T}$ -- Portfolio **GROSS** vector \n",
    "* $\\mathbf{\\alpha}=[|\\alpha_1^{ANN}|,...,|\\alpha_n^{ANN}|]^{T}$ -- Annualized **ABS** Alpha vector\n",
    "* $\\mathbf{\\Delta}=Diag(\\sigma_i^{ANN},...,\\sigma_n^{ANN})$ -- Annualized specific risk matrix\n",
    "* $\\mathbf{\\alpha^t}=[|\\alpha_1^t|,...,|\\alpha_n^t|]^{T}$ -- Expected remaining **ABS** Alpha vector\n",
    "\n",
    "Note that the elements in the above vectors are all **absolute values**.\n",
    "\n",
    "* $\\alpha_P^{ANN}=\\mathbf{\\alpha}^T\\mathbf{v}$ -- Portfolio Annualized Alpha (in dollar)\n",
    "* $\\alpha_P^t=\\mathbf{\\alpha^t}^T\\mathbf{v}$ -- Portfolio Annualized Alpha (in dollar)"
   ]
  },
  {
   "cell_type": "markdown",
   "metadata": {},
   "source": [
    "## 2. Symbol Level Constraints"
   ]
  },
  {
   "cell_type": "markdown",
   "metadata": {},
   "source": [
    "### 1) Capacity\n",
    "\n",
    "$\\begin{aligned}\n",
    "|v_i|  & \\le m^C C_i\\\\\n",
    "|v_i|  & \\le H \\\\\n",
    "\\end{aligned}$"
   ]
  },
  {
   "cell_type": "markdown",
   "metadata": {},
   "source": [
    "### 2) Risk\n",
    "\n",
    "$\\begin{aligned}\n",
    "|v_i|  & \\le \\frac{B}{\\sigma_i^t}\\\\\n",
    "\\end{aligned}$"
   ]
  },
  {
   "cell_type": "markdown",
   "metadata": {},
   "source": [
    "### 3) Liquidity\n",
    "\n",
    "$\\begin{aligned}\n",
    "|v_i|  & \\le m^l V_i\\\\\n",
    "\\end{aligned}$"
   ]
  },
  {
   "cell_type": "markdown",
   "metadata": {},
   "source": [
    "All the above constraints could be combined in matrix form:\n",
    "\n",
    "$\\begin{aligned}\n",
    "\\mathbf{I} \\mathbf{v} & \\le \\mathbf{C}\\\\\n",
    "\\end{aligned}$\n",
    "\n",
    "where $\\mathbf{I}$ is the identity matrix, and $\\mathbf{C}$ is a vector containing the tightest element-wise boundaries among the above constraints."
   ]
  },
  {
   "cell_type": "markdown",
   "metadata": {},
   "source": [
    "## 3. Portfolio Sizing Problem Setting"
   ]
  },
  {
   "cell_type": "markdown",
   "metadata": {},
   "source": [
    "### 1) Portfolio Annualized Risk\n",
    "\n",
    "Assume that the annualized common risk of the hedged portfolio could be controlled well to the level of a percentage of the portfolio gross value. Here we use $r$ to denote the percentage. Then the estimated hedged portfolio annualized total risk can be formulized as:\n",
    "\n",
    "$\\begin{aligned}\n",
    "\\sigma_P^{ANN} &= \\sqrt{\\mathbf{v}^T\\mathbf{\\Delta}\\mathbf{\\Delta}^T\\mathbf{v}+(r\\mathbf{1}^T\\mathbf{v})^2} \\\\\n",
    "               &= \\sqrt{\\mathbf{v}^T(\\mathbf{\\Delta}\\mathbf{\\Delta}^T+r^2\\mathbf{J})\\mathbf{v}}\n",
    "\\end{aligned}$\n",
    "\n",
    "where $\\mathbf{J}$ is the matrix of all ones."
   ]
  },
  {
   "cell_type": "markdown",
   "metadata": {},
   "source": [
    "### 2) Utility Function\n",
    "\n",
    "$\\begin{aligned}\n",
    "\\text{max } \\alpha_P^t=\\Sigma_i |v_i||\\alpha_i^t|\\\\\n",
    "\\end{aligned}$\n",
    "\n",
    "or\n",
    "\n",
    "$\\begin{aligned}\n",
    "\\text{min } -\\mathbf{\\alpha^t}^T \\mathbf{v}\\\\\n",
    "\\end{aligned}$"
   ]
  },
  {
   "cell_type": "markdown",
   "metadata": {},
   "source": [
    "### 3) Constraints\n",
    "\n",
    "* Symbol level constraints:  $\\mathbf{I} \\mathbf{v} \\le \\mathbf{C}$\n",
    "* Portfolio Sharpe requirement constraints: $\\theta \\sigma_P^{ANN} \\le \\alpha_P^{ANN}$ or $\\|\\theta \\mathbf{L}^T \\mathbf{v}\\|_2 \\le \\mathbf{\\alpha}^T\\mathbf{v}$ \n",
    "\n",
    "where $\\mathbf{L}\\mathbf{L}^T=\\mathbf{\\Delta}\\mathbf{\\Delta}^T+r^2\\mathbf{J}$ and $\\mathbf{L}$ could be obtained by **Cholesky Decomposition**."
   ]
  },
  {
   "cell_type": "markdown",
   "metadata": {},
   "source": [
    "## 4. Implementation"
   ]
  },
  {
   "cell_type": "markdown",
   "metadata": {},
   "source": [
    "The above problem setting is a typical **SOCP** optimization problem with:\n",
    "\n",
    "* $\\mathbf{c}=-\\mathbf{\\alpha^t}$\n",
    "* $\\mathbf{G}_0=\\mathbf{I}, \\mathbf{h}_0=\\mathbf{C}$ (in **CVXOPT**, they are denoted as $\\mathbf{G}_l$ and $\\mathbf{h}_l$ seperately)\n",
    "* $\\mathbf{G}_1=[-\\mathbf{\\alpha}, -\\theta \\mathbf{L}]^T, \\mathbf{h}_1=\\mathbf{0}$"
   ]
  },
  {
   "cell_type": "code",
   "execution_count": null,
   "metadata": {
    "collapsed": true
   },
   "outputs": [],
   "source": []
  }
 ],
 "metadata": {
  "kernelspec": {
   "display_name": "Python 3",
   "language": "python",
   "name": "python3"
  },
  "language_info": {
   "codemirror_mode": {
    "name": "ipython",
    "version": 3
   },
   "file_extension": ".py",
   "mimetype": "text/x-python",
   "name": "python",
   "nbconvert_exporter": "python",
   "pygments_lexer": "ipython3",
   "version": "3.6.3"
  }
 },
 "nbformat": 4,
 "nbformat_minor": 2
}
