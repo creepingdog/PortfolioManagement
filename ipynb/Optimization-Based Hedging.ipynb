{
 "cells": [
  {
   "cell_type": "markdown",
   "metadata": {},
   "source": [
    "# Optimization-Based Hedging Formulation"
   ]
  },
  {
   "cell_type": "markdown",
   "metadata": {},
   "source": [
    "## 1. Notation"
   ]
  },
  {
   "cell_type": "markdown",
   "metadata": {},
   "source": [
    "### 1) Main Portfolio\n",
    "\n",
    "+ The whole underlying universe $\\mathbf{U}_N$ contains $N$ underlying symbols.\n",
    "+ A main porfolio is given by the notional vector $\\mathbf{p}$, which is a $N*1$ vector.\n",
    "+ $G^\\mathbf{p}$ -- Gross of the main porfolio\n",
    "+ $N^\\mathbf{p}$ -- Net of the main portfolio\n",
    "+ $\\sigma_C^{\\mathbf{p}}$ -- Common risk of the main portfolio"
   ]
  },
  {
   "cell_type": "markdown",
   "metadata": {},
   "source": [
    "### 2) Hedging Portfolio\n",
    "\n",
    "+ Hedging instrument universe $\\mathbf{U}^h_H$ contains $H$ hedging instruments, which could overlap with $\\mathbf{U_N}$\n",
    "+ From the risk perspective, the \"broken-out\" matrix for hedging instruments is $\\mathbf{W}$, which is a $N*H$ matrix\n",
    "+ $\\mathbf{x}$ -- hedge portfolio in $\\mathbf{U}^h_H$ ($H*1$ hedge notional vector) which will be optimized\n",
    "+ $\\mathbf{h}=\\mathbf{W}\\mathbf{x}$ -- hedge portfolio in $\\mathbf{U}_N$ ($N*1$ \"broken-out\" hedge notional vector)\n",
    "+ $V_i$ -- ADV value for hedging instrument $i$"
   ]
  },
  {
   "cell_type": "markdown",
   "metadata": {},
   "source": [
    "### 3) Optimization Parameters\n",
    "+ $c$ -- The common risk of the hedged portfolio should be less or equal to $C = c*G^\\mathbf{p}$\n",
    "+ $\\delta$ -- The absolute value of the net of the hedge portfolio should be less or equal to $D = \\delta*N^\\mathbf{p}$\n",
    "+ $l_i$ -- The gross value of hedging instrument $i$ should be less or equal to $l_i*V_i$"
   ]
  },
  {
   "cell_type": "markdown",
   "metadata": {},
   "source": [
    "### 4) Portfolio Risk Data\n",
    "\n",
    "+ Assume there are in total $F$ factors in the risk factor model\n",
    "+ $\\mathbf{X}$ -- $N*F$ factor loading matrix\n",
    "+ $\\mathbf{\\Sigma}$ -- $F*F$ factor convariance matrix"
   ]
  },
  {
   "cell_type": "markdown",
   "metadata": {},
   "source": [
    "## 2. Original Problem"
   ]
  },
  {
   "cell_type": "markdown",
   "metadata": {},
   "source": [
    "### 1） Utility Fuction\n",
    "\n",
    "$$\\min \\sum_i \\frac{|x_i|}{V_i}$$\n",
    "\n",
    "or\n",
    "\n",
    "$$\\min \\|\\mathbf{P_0}\\mathbf{x}\\|_1$$\n",
    "\n",
    "where $\\mathbf{P_0}=diag(\\frac{1}{V_1}, \\frac{1}{V_2},...,\\frac{1}{V_H})$"
   ]
  },
  {
   "cell_type": "markdown",
   "metadata": {},
   "source": [
    "### 2） Constraints\n",
    "\n",
    "* Common risk constraint:\n",
    "$$(\\mathbf{h}+\\mathbf{p})^T\\mathbf{X}\\mathbf{\\Sigma}\\mathbf{X}^T(\\mathbf{h}+\\mathbf{p}) \\le C^2$$\n",
    "\n",
    "or \n",
    "\n",
    "$$\\mathbf{x}^T\\mathbf{P}\\mathbf{x}+2\\mathbf{q}^T\\mathbf{x}+r \\le 0 \\Longleftrightarrow \\|\\mathbf{A}^T\\mathbf{x}+\\mathbf{A}^{-1}\\mathbf{q}\\|_2 \\le (\\mathbf{q}^T\\mathbf{P^{-1}}\\mathbf{q}-r)^{1/2}$$\n",
    "\n",
    "Please note:\n",
    ">+ $\\mathbf{P}=\\mathbf{W}^T\\mathbf{X}\\mathbf{\\Sigma}\\mathbf{X}^T\\mathbf{W}$ is an $H*H$ matrix\n",
    "+ $\\mathbf{q}=\\mathbf{W}^T\\mathbf{X}\\mathbf{\\Sigma}\\mathbf{X}^T\\mathbf{p}$ is an $H*1$ vector\n",
    "+ $\\mathbf{A}$ is the Cholesky decomposition of $\\mathbf{P}$, i.e. $\\mathbf{P}=\\mathbf{A}\\mathbf{A}^T$\n",
    "\n",
    "> All the above could be pre-calculated and stored. \n",
    "\n",
    ">+ $r=(\\sigma_C^\\mathbf{p})^2-C^2$\n",
    "\n",
    "* Net constraint:\n",
    "$$|\\sum_i x_i+N_{\\mathbf{p}}| \\le D$$\n",
    "\n",
    "or\n",
    "\n",
    "$$\\mathbf{1}^T\\mathbf{x} \\le (\\delta-1)N_{\\mathbf{p}}$$\n",
    "$$-\\mathbf{1}^T\\mathbf{x} \\le (\\delta+1)N_{\\mathbf{p}}$$\n",
    "\n",
    "\n",
    "* Liquidity constraints:\n",
    "$$|x_i| \\le l_i * V_i \\text{ for any } i$$\n",
    "\n",
    "or\n",
    "\n",
    "$$\\mathbf{I}\\mathbf{x} \\le \\mathbf{L}\\mathbf{V}$$\n",
    "$$-\\mathbf{I}\\mathbf{x} \\le \\mathbf{L}\\mathbf{V}$$\n",
    "\n",
    "where $\\mathbf{I}$ is the identity matrix, $\\mathbf{L}$ is the diagonal matrix with the liquidity parameters and $\\mathbf{V}$ is the ADV vector."
   ]
  },
  {
   "cell_type": "markdown",
   "metadata": {},
   "source": [
    "## 3. Optimization Problem after $l_1$-norm handling"
   ]
  },
  {
   "cell_type": "markdown",
   "metadata": {},
   "source": [
    "Let $\\mathbf{y}=\\begin{bmatrix}\\mathbf{x}\\\\\\mathbf{v}\\end{bmatrix}$ be the new optimization vector with dimention $2H*1$."
   ]
  },
  {
   "cell_type": "markdown",
   "metadata": {},
   "source": [
    "### 1) Utility Function\n",
    "\n",
    "$$\\min \\mathbf{1}^T\\mathbf{v}$$\n",
    "\n",
    "or \n",
    "\n",
    "$$\\min \\begin{bmatrix}\\mathbf{0_{H*1}^T} & \\mathbf{1_{H*1}^T}\\end{bmatrix}\\mathbf{y}$$"
   ]
  },
  {
   "cell_type": "markdown",
   "metadata": {},
   "source": [
    "### 2) Constraints\n",
    "\n",
    "* $l_1$-norm handling extra constraints:\n",
    "$$-\\mathbf{v} \\le \\mathbf{P_0}\\mathbf{x} \\le \\mathbf{v}$$\n",
    "\n",
    "or\n",
    "\n",
    "$$\\begin{bmatrix}\\mathbf{P_0} & -\\mathbf{I} \\\\ -\\mathbf{P_0} & -\\mathbf{I} \\end{bmatrix}\\mathbf{y} \\le \\mathbf{0_{2H*1}}$$\n",
    "\n",
    "\n",
    "* Net constraints:\n",
    "\n",
    "$$\\begin{bmatrix}\\mathbf{1}^T_{H*1} & \\mathbf{0}^T_{H*1} \\\\ -\\mathbf{1}^T_{H*1} & \\mathbf{0}^T_{H*1} \\end{bmatrix}\\mathbf{y} \\le \\begin{bmatrix} (\\delta -1)N^P \\\\ (\\delta +1)N^P \\end{bmatrix}$$\n",
    "\n",
    "* Liquidity constraints:\n",
    "\n",
    "$$\\begin{bmatrix}\\mathbf{I} & \\mathbf{0}^T_{H*H} \\\\ -\\mathbf{I} & \\mathbf{0}^T_{H*H} \\end{bmatrix}\\mathbf{y} \\le \\begin{bmatrix} \\mathbf{L}\\mathbf{V} \\\\ \\mathbf{L}\\mathbf{V} \\end{bmatrix}$$\n",
    "\n",
    "* Common risk constraints:\n",
    "\n",
    "$$\\|\\begin{bmatrix} \\mathbf{A}^T & \\mathbf{0}_{H*H} \\end{bmatrix}\\mathbf{y}+\\mathbf{A}^{-1}\\mathbf{q}\\|_2 \\le (\\mathbf{q}^T\\mathbf{P^{-1}}\\mathbf{q}-r)^{1/2}$$"
   ]
  },
  {
   "cell_type": "markdown",
   "metadata": {},
   "source": [
    "## 3. Implementation"
   ]
  },
  {
   "cell_type": "markdown",
   "metadata": {},
   "source": [
    "The above is a typical **SOCP** optimization problem with:\n",
    "\n",
    "* $\\mathbf{c}=\\begin{bmatrix}\\mathbf{0}_{H*1}\\\\ \\mathbf{1}_{H*1}\\end{bmatrix}$\n",
    "* $\\mathbf{G}_0=\\begin{bmatrix} \\mathbf{P}_0 & -\\mathbf{I}  \\\\ -\\mathbf{P}_0 & -\\mathbf{I} \\\\\n",
    "\\mathbf{1}^T_{H*1} & \\mathbf{0}^T_{H*1} \\\\\n",
    "-\\mathbf{1}^T_{H*1} & \\mathbf{0}^T_{H*1} \\\\\n",
    "\\mathbf{I} & \\mathbf{0}^T_{H*H} \\\\ -\\mathbf{I} & \\mathbf{0}^T_{H*H}\\end{bmatrix}, \\mathbf{h}_0=\\begin{bmatrix} \\mathbf{0}^T_{2H*1} \\\\ (\\delta -1)N^P \\\\ (\\delta +1)N^P \\\\ \\mathbf{L}\\mathbf{V} \\\\ \\mathbf{L}\\mathbf{V} \\end{bmatrix}$ \n",
    "\n",
    "(in **CVXOPT**, they are denoted as $\\mathbf{G}_l$ and $\\mathbf{h}_l$ seperately)\n",
    "* $\\mathbf{G}_1=\\begin{bmatrix}\\mathbf{0}^T_{H*1} & \\mathbf{0}^T_{H*1} \\\\ -\\mathbf{A}^T & -\\mathbf{0}^T_{H*H} \\end{bmatrix}, \\mathbf{h}_1=\\begin{bmatrix}(\\mathbf{q}^T\\mathbf{P^{-1}}\\mathbf{q}-r)^{1/2} \\\\ \\mathbf{A}^{-1}\\mathbf{q}\\end{bmatrix}$"
   ]
  }
 ],
 "metadata": {
  "kernelspec": {
   "display_name": "Python 3",
   "language": "python",
   "name": "python3"
  },
  "language_info": {
   "codemirror_mode": {
    "name": "ipython",
    "version": 3
   },
   "file_extension": ".py",
   "mimetype": "text/x-python",
   "name": "python",
   "nbconvert_exporter": "python",
   "pygments_lexer": "ipython3",
   "version": "3.6.4"
  }
 },
 "nbformat": 4,
 "nbformat_minor": 2
}
